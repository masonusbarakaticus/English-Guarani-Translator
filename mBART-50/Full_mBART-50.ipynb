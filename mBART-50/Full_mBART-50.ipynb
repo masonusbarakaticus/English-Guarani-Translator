{
 "cells": [
  {
   "cell_type": "code",
   "execution_count": null,
   "id": "8505c917-492d-4cdb-8db0-8bf940ccfe9f",
   "metadata": {
    "id": "8505c917-492d-4cdb-8db0-8bf940ccfe9f"
   },
   "outputs": [],
   "source": [
    "from datasets import Dataset\n",
    "from transformers import MBartForConditionalGeneration, MBart50TokenizerFast, DataCollatorForSeq2Seq\n",
    "from transformers import Seq2SeqTrainer, Seq2SeqTrainingArguments\n",
    "import torch"
   ]
  },
  {
   "cell_type": "code",
   "execution_count": null,
   "id": "387d79dd-ddcb-452e-a987-c277b0d60026",
   "metadata": {
    "id": "387d79dd-ddcb-452e-a987-c277b0d60026"
   },
   "outputs": [],
   "source": [
    "#Open English and Guarani NLLB corpus\n",
    "\n",
    "with open('/content/drive/MyDrive/NLLB/NLLB.en-gn.en', 'r') as f: # English\n",
    "    ENs = f.read().splitlines()\n",
    "with open('/content/drive/MyDrive/NLLB/NLLB.en-gn.gn', 'r') as f: # Guarani\n",
    "    GNs = f.read().splitlines()\n",
    "\n",
    "#Can be changed depending on processing capabilities\n",
    "ENs = ENs[:10000]\n",
    "GNs = GNs[:10000]"
   ]
  },
  {
   "cell_type": "code",
   "execution_count": null,
   "id": "416c308b-3a36-417b-8262-c213b39e554f",
   "metadata": {
    "id": "416c308b-3a36-417b-8262-c213b39e554f"
   },
   "outputs": [],
   "source": [
    "# Create a format that the model can process\n",
    "\n",
    "data = [{\"translation\": {\"en\": en, \"gn\": gn}} for en, gn in zip(ENs, GNs)]\n",
    "raw_dataset = Dataset.from_list(data)"
   ]
  },
  {
   "cell_type": "code",
   "execution_count": null,
   "id": "e87e8f04-fcc2-4e94-a7a5-5dfb4e669d79",
   "metadata": {
    "colab": {
     "base_uri": "https://localhost:8080/"
    },
    "id": "e87e8f04-fcc2-4e94-a7a5-5dfb4e669d79",
    "outputId": "f1e1c040-9199-48ac-c97b-cbcc61897b45"
   },
   "outputs": [],
   "source": [
    "# Set model and tokenizer\n",
    "\n",
    "model = MBartForConditionalGeneration.from_pretrained(\"facebook/mbart-large-50\")\n",
    "tokenizer = MBart50TokenizerFast.from_pretrained(\"facebook/mbart-large-50\")\n",
    "\n",
    "tokenizer.src_lang = \"en_XX\"\n",
    "tokenizer.tgt_lang = \"gn_XX\""
   ]
  },
  {
   "cell_type": "code",
   "execution_count": null,
   "id": "dd0520da-a2ef-4d98-b17b-d3875fa066cd",
   "metadata": {
    "colab": {
     "base_uri": "https://localhost:8080/",
     "height": 103,
     "referenced_widgets": [
      "aa307bfe27534fb68991503b579f634e",
      "c4ee999d8ef641c1ac226d3db9b4b16e",
      "bb28f5117bd9422cae5cb12edc27ba7c",
      "c0012ce4bade4ec3bd47e18bd899179a",
      "b803a249697b4bd397f6d590f42f1591",
      "2fe665780a524bbf88cedf4052769cc7",
      "854da9e70dd6430baf1f633d5aa2e813",
      "76e66fce53a54c94a0fabc43633f3f3a",
      "7d23d4a1a83f4c5ab47b0bf475c43a7d",
      "67b10d448c2b40fa9e4756d8b96bdae4",
      "9d3cccf65f14469990be15c29733d256"
     ]
    },
    "id": "dd0520da-a2ef-4d98-b17b-d3875fa066cd",
    "outputId": "80085ea3-af2f-4939-a20f-167ff0abc56a"
   },
   "outputs": [],
   "source": [
    "# map dataset\n",
    "def preprocess(examples):\n",
    "\n",
    "    inputs = [ex[\"en\"] for ex in examples[\"translation\"]]\n",
    "    targets = [ex[\"gn\"] for ex in examples[\"translation\"]]\n",
    "\n",
    "    model_inputs = tokenizer(inputs, max_length=128, padding=\"max_length\", truncation=True)\n",
    "    with tokenizer.as_target_tokenizer():\n",
    "        labels = tokenizer(targets, max_length=128, padding=\"max_length\", truncation=True)\n",
    "    model_inputs[\"labels\"] = labels[\"input_ids\"]\n",
    "\n",
    "    return model_inputs\n",
    "\n",
    "tokenized_dataset = raw_dataset.map(preprocess, batched=True)\n"
   ]
  },
  {
   "cell_type": "code",
   "execution_count": null,
   "id": "0e7d8e40-c002-4641-848f-38198559c3c7",
   "metadata": {
    "colab": {
     "base_uri": "https://localhost:8080/",
     "height": 190
    },
    "id": "0e7d8e40-c002-4641-848f-38198559c3c7",
    "outputId": "bc5a858b-39d6-461c-cb8a-72476e6991b0"
   },
   "outputs": [],
   "source": [
    "\n",
    "# training arguments\n",
    "training_args = Seq2SeqTrainingArguments(\n",
    "    output_dir=\"./mbart50-gn-model\",\n",
    "    eval_strategy=\"no\",\n",
    "    per_device_train_batch_size=8,\n",
    "    learning_rate=3e-5,\n",
    "    num_train_epochs=3,\n",
    "    save_strategy=\"epoch\",\n",
    "    logging_dir=\"./logs\",\n",
    "    fp16=torch.cuda.is_available(),\n",
    "    predict_with_generate=True,\n",
    "\n",
    ")\n",
    "\n",
    "data_collator = DataCollatorForSeq2Seq(tokenizer, model=model)\n",
    "\n",
    "# Trainer\n",
    "trainer = Seq2SeqTrainer(\n",
    "    model=model,\n",
    "    args=training_args,\n",
    "    train_dataset=tokenized_dataset,\n",
    "    tokenizer=tokenizer,\n",
    "    data_collator=data_collator,\n",
    ")\n",
    "\n",
    "# Train\n",
    "trainer.train()"
   ]
  },
  {
   "cell_type": "code",
   "execution_count": null,
   "id": "c4a40f62-13b1-4368-ab9e-16f6098672f0",
   "metadata": {
    "colab": {
     "base_uri": "https://localhost:8080/",
     "height": 139
    },
    "id": "c4a40f62-13b1-4368-ab9e-16f6098672f0",
    "outputId": "06d0b2f6-1e3b-436f-d48c-8a3eee841ea0"
   },
   "outputs": [],
   "source": [
    "model.config.forced_bos_token_id = tokenizer.lang_code_to_id[\"gn_XX\"]"
   ]
  },
  {
   "cell_type": "code",
   "execution_count": null,
   "id": "1ce5c3aa-0467-436f-b451-e3c4027b337e",
   "metadata": {
    "id": "1ce5c3aa-0467-436f-b451-e3c4027b337e"
   },
   "outputs": [],
   "source": [
    "# Individual test for if it produces anything\n",
    "\n",
    "def translate(text, max_length=64):\n",
    "    tokenizer.src_lang = \"en_XX\"\n",
    "    encoded = tokenizer(text, return_tensors=\"pt\").to(model.device)\n",
    "    generated = model.generate(**encoded, forced_bos_token_id=tokenizer.lang_code_to_id[\"gn_XX\"], max_length=max_length)\n",
    "    return tokenizer.batch_decode(generated, skip_special_tokens=True)[0]\n",
    "\n",
    "#Test it out\n",
    "translate(\"Where are you going?\")"
   ]
  },
  {
   "cell_type": "code",
   "execution_count": null,
   "id": "7a87iYN9i8xN",
   "metadata": {
    "id": "7a87iYN9i8xN"
   },
   "outputs": [],
   "source": [
    "# Past this point is chrF++ testing"
   ]
  },
  {
   "cell_type": "code",
   "execution_count": null,
   "id": "0e234901-5269-4d54-b364-460e8b84fe90",
   "metadata": {
    "id": "0e234901-5269-4d54-b364-460e8b84fe90"
   },
   "outputs": [],
   "source": [
    "import evaluate\n",
    "chrf = evaluate.load(\"chrf\")"
   ]
  },
  {
   "cell_type": "code",
   "execution_count": null,
   "id": "9bcae5a9-413b-45ed-a75c-4036c2e9dd60",
   "metadata": {
    "id": "9bcae5a9-413b-45ed-a75c-4036c2e9dd60"
   },
   "outputs": [],
   "source": [
    "# translation widget for extra testing ###Developed by another team member###\n",
    "import ipywidgets as widgets\n",
    "from IPython.display import display\n",
    "from transformers import MBartForConditionalGeneration, MBart50TokenizerFast\n",
    "import torch\n",
    "\n",
    "# === 1. Load model and tokenizer from saved directory ===\n",
    "\n",
    "\n",
    "tokenizer = MBart50TokenizerFast.from_pretrained(model_dir)\n",
    "tokenizer.src_lang = \"en_XX\"\n",
    "tokenizer.tgt_lang = \"gn_XX\"\n",
    "\n",
    "device = torch.device(\"cuda\" if torch.cuda.is_available() else \"cpu\")\n",
    "model = MBartForConditionalGeneration.from_pretrained(model_dir).to(device)\n",
    "\n",
    "def translate(text, max_new_tokens=64):\n",
    "    inputs = tokenizer(text, return_tensors=\"pt\", padding=True).to(device)\n",
    "\n",
    "    with torch.no_grad():\n",
    "        output_tokens = model.generate(\n",
    "            **inputs,\n",
    "            forced_bos_token_id=tokenizer.lang_code_to_id[\"gn_XX\"],\n",
    "            max_new_tokens=max_new_tokens,\n",
    "            num_beams=4,\n",
    "            do_sample=False\n",
    "        )\n",
    "\n",
    "    return tokenizer.batch_decode(output_tokens, skip_special_tokens=True)[0]\n",
    "\n",
    "# UI Elements\n",
    "text_input = widgets.Text(\n",
    "    value='Where are you going?',\n",
    "    placeholder='Type a sentence...',\n",
    "    description='English:',\n",
    "    layout=widgets.Layout(width='90%')\n",
    ")\n",
    "\n",
    "output_box = widgets.Output()\n",
    "translate_button = widgets.Button(\n",
    "    description='Translate to Guarani',\n",
    "    button_style='success'\n",
    ")\n",
    "\n",
    "def on_translate_clicked(b):\n",
    "    output_box.clear_output()\n",
    "    sentence = text_input.value.strip()\n",
    "    with output_box:\n",
    "        if not sentence:\n",
    "            print(\"Please enter a sentence.\")\n",
    "        else:\n",
    "            translation = translate(sentence)\n",
    "            print(\"Guarani:\", translation)\n",
    "\n",
    "translate_button.on_click(on_translate_clicked)\n",
    "\n",
    "display(widgets.VBox([\n",
    "    text_input,\n",
    "    translate_button,\n",
    "    output_box\n",
    "]))\n"
   ]
  },
  {
   "cell_type": "code",
   "execution_count": null,
   "id": "d611fea1-2343-456e-b16c-b20537c5c1e8",
   "metadata": {
    "id": "d611fea1-2343-456e-b16c-b20537c5c1e8"
   },
   "outputs": [],
   "source": [
    "# read in test corpus Flores-200\n",
    "with open('Flores/eng_Latn.dev', 'r') as f: # English\n",
    "    ENGs = f.read().splitlines()\n",
    "with open('Flores/grn_Latn.dev', 'r') as f: # Guarani\n",
    "    GRNs = f.read().splitlines()"
   ]
  },
  {
   "cell_type": "code",
   "execution_count": null,
   "id": "91e8bee0-6059-4406-b985-e2b49769122b",
   "metadata": {
    "id": "91e8bee0-6059-4406-b985-e2b49769122b"
   },
   "outputs": [],
   "source": [
    "def translate_all(source): #Translate a list of sentences\n",
    "\n",
    "    complete_translation=[]\n",
    "    for sent in source:\n",
    "        complete_translation.append(translate(sent))\n"
   ]
  },
  {
   "cell_type": "code",
   "execution_count": null,
   "id": "758669d4-e6f2-4655-b76e-40dda97d5c66",
   "metadata": {
    "id": "758669d4-e6f2-4655-b76e-40dda97d5c66"
   },
   "outputs": [],
   "source": [
    "# Make a set of predictions in the form of a list\n",
    "# Make a set of references in the form of a list of lists\n",
    "predictions=translate_all(ENGs)\n",
    "references=[[sent] for sent in GRNs]"
   ]
  },
  {
   "cell_type": "code",
   "execution_count": null,
   "id": "69ef395e-1c08-4ad9-82f4-31173dfd9dc8",
   "metadata": {
    "id": "69ef395e-1c08-4ad9-82f4-31173dfd9dc8"
   },
   "outputs": [],
   "source": [
    "# Find chrf++ score\n",
    "results = chrf.compute(predictions=predictions, references=references, word_order=2)\n",
    "print(results)"
   ]
  }
 ],
 "metadata": {
  "accelerator": "GPU",
  "colab": {
   "gpuType": "T4",
   "provenance": []
  },
  "kernelspec": {
   "display_name": "Python 3 (ipykernel)",
   "language": "python",
   "name": "python3"
  },
  "language_info": {
   "codemirror_mode": {
    "name": "ipython",
    "version": 3
   },
   "file_extension": ".py",
   "mimetype": "text/x-python",
   "name": "python",
   "nbconvert_exporter": "python",
   "pygments_lexer": "ipython3",
   "version": "3.10.16"
  },
  "widgets": {
   "application/vnd.jupyter.widget-state+json": {
    "2fe665780a524bbf88cedf4052769cc7": {
     "model_module": "@jupyter-widgets/base",
     "model_module_version": "1.2.0",
     "model_name": "LayoutModel",
     "state": {
      "_model_module": "@jupyter-widgets/base",
      "_model_module_version": "1.2.0",
      "_model_name": "LayoutModel",
      "_view_count": null,
      "_view_module": "@jupyter-widgets/base",
      "_view_module_version": "1.2.0",
      "_view_name": "LayoutView",
      "align_content": null,
      "align_items": null,
      "align_self": null,
      "border": null,
      "bottom": null,
      "display": null,
      "flex": null,
      "flex_flow": null,
      "grid_area": null,
      "grid_auto_columns": null,
      "grid_auto_flow": null,
      "grid_auto_rows": null,
      "grid_column": null,
      "grid_gap": null,
      "grid_row": null,
      "grid_template_areas": null,
      "grid_template_columns": null,
      "grid_template_rows": null,
      "height": null,
      "justify_content": null,
      "justify_items": null,
      "left": null,
      "margin": null,
      "max_height": null,
      "max_width": null,
      "min_height": null,
      "min_width": null,
      "object_fit": null,
      "object_position": null,
      "order": null,
      "overflow": null,
      "overflow_x": null,
      "overflow_y": null,
      "padding": null,
      "right": null,
      "top": null,
      "visibility": null,
      "width": null
     }
    },
    "67b10d448c2b40fa9e4756d8b96bdae4": {
     "model_module": "@jupyter-widgets/base",
     "model_module_version": "1.2.0",
     "model_name": "LayoutModel",
     "state": {
      "_model_module": "@jupyter-widgets/base",
      "_model_module_version": "1.2.0",
      "_model_name": "LayoutModel",
      "_view_count": null,
      "_view_module": "@jupyter-widgets/base",
      "_view_module_version": "1.2.0",
      "_view_name": "LayoutView",
      "align_content": null,
      "align_items": null,
      "align_self": null,
      "border": null,
      "bottom": null,
      "display": null,
      "flex": null,
      "flex_flow": null,
      "grid_area": null,
      "grid_auto_columns": null,
      "grid_auto_flow": null,
      "grid_auto_rows": null,
      "grid_column": null,
      "grid_gap": null,
      "grid_row": null,
      "grid_template_areas": null,
      "grid_template_columns": null,
      "grid_template_rows": null,
      "height": null,
      "justify_content": null,
      "justify_items": null,
      "left": null,
      "margin": null,
      "max_height": null,
      "max_width": null,
      "min_height": null,
      "min_width": null,
      "object_fit": null,
      "object_position": null,
      "order": null,
      "overflow": null,
      "overflow_x": null,
      "overflow_y": null,
      "padding": null,
      "right": null,
      "top": null,
      "visibility": null,
      "width": null
     }
    },
    "76e66fce53a54c94a0fabc43633f3f3a": {
     "model_module": "@jupyter-widgets/base",
     "model_module_version": "1.2.0",
     "model_name": "LayoutModel",
     "state": {
      "_model_module": "@jupyter-widgets/base",
      "_model_module_version": "1.2.0",
      "_model_name": "LayoutModel",
      "_view_count": null,
      "_view_module": "@jupyter-widgets/base",
      "_view_module_version": "1.2.0",
      "_view_name": "LayoutView",
      "align_content": null,
      "align_items": null,
      "align_self": null,
      "border": null,
      "bottom": null,
      "display": null,
      "flex": null,
      "flex_flow": null,
      "grid_area": null,
      "grid_auto_columns": null,
      "grid_auto_flow": null,
      "grid_auto_rows": null,
      "grid_column": null,
      "grid_gap": null,
      "grid_row": null,
      "grid_template_areas": null,
      "grid_template_columns": null,
      "grid_template_rows": null,
      "height": null,
      "justify_content": null,
      "justify_items": null,
      "left": null,
      "margin": null,
      "max_height": null,
      "max_width": null,
      "min_height": null,
      "min_width": null,
      "object_fit": null,
      "object_position": null,
      "order": null,
      "overflow": null,
      "overflow_x": null,
      "overflow_y": null,
      "padding": null,
      "right": null,
      "top": null,
      "visibility": null,
      "width": null
     }
    },
    "7d23d4a1a83f4c5ab47b0bf475c43a7d": {
     "model_module": "@jupyter-widgets/controls",
     "model_module_version": "1.5.0",
     "model_name": "ProgressStyleModel",
     "state": {
      "_model_module": "@jupyter-widgets/controls",
      "_model_module_version": "1.5.0",
      "_model_name": "ProgressStyleModel",
      "_view_count": null,
      "_view_module": "@jupyter-widgets/base",
      "_view_module_version": "1.2.0",
      "_view_name": "StyleView",
      "bar_color": null,
      "description_width": ""
     }
    },
    "854da9e70dd6430baf1f633d5aa2e813": {
     "model_module": "@jupyter-widgets/controls",
     "model_module_version": "1.5.0",
     "model_name": "DescriptionStyleModel",
     "state": {
      "_model_module": "@jupyter-widgets/controls",
      "_model_module_version": "1.5.0",
      "_model_name": "DescriptionStyleModel",
      "_view_count": null,
      "_view_module": "@jupyter-widgets/base",
      "_view_module_version": "1.2.0",
      "_view_name": "StyleView",
      "description_width": ""
     }
    },
    "9d3cccf65f14469990be15c29733d256": {
     "model_module": "@jupyter-widgets/controls",
     "model_module_version": "1.5.0",
     "model_name": "DescriptionStyleModel",
     "state": {
      "_model_module": "@jupyter-widgets/controls",
      "_model_module_version": "1.5.0",
      "_model_name": "DescriptionStyleModel",
      "_view_count": null,
      "_view_module": "@jupyter-widgets/base",
      "_view_module_version": "1.2.0",
      "_view_name": "StyleView",
      "description_width": ""
     }
    },
    "aa307bfe27534fb68991503b579f634e": {
     "model_module": "@jupyter-widgets/controls",
     "model_module_version": "1.5.0",
     "model_name": "HBoxModel",
     "state": {
      "_dom_classes": [],
      "_model_module": "@jupyter-widgets/controls",
      "_model_module_version": "1.5.0",
      "_model_name": "HBoxModel",
      "_view_count": null,
      "_view_module": "@jupyter-widgets/controls",
      "_view_module_version": "1.5.0",
      "_view_name": "HBoxView",
      "box_style": "",
      "children": [
       "IPY_MODEL_c4ee999d8ef641c1ac226d3db9b4b16e",
       "IPY_MODEL_bb28f5117bd9422cae5cb12edc27ba7c",
       "IPY_MODEL_c0012ce4bade4ec3bd47e18bd899179a"
      ],
      "layout": "IPY_MODEL_b803a249697b4bd397f6d590f42f1591"
     }
    },
    "b803a249697b4bd397f6d590f42f1591": {
     "model_module": "@jupyter-widgets/base",
     "model_module_version": "1.2.0",
     "model_name": "LayoutModel",
     "state": {
      "_model_module": "@jupyter-widgets/base",
      "_model_module_version": "1.2.0",
      "_model_name": "LayoutModel",
      "_view_count": null,
      "_view_module": "@jupyter-widgets/base",
      "_view_module_version": "1.2.0",
      "_view_name": "LayoutView",
      "align_content": null,
      "align_items": null,
      "align_self": null,
      "border": null,
      "bottom": null,
      "display": null,
      "flex": null,
      "flex_flow": null,
      "grid_area": null,
      "grid_auto_columns": null,
      "grid_auto_flow": null,
      "grid_auto_rows": null,
      "grid_column": null,
      "grid_gap": null,
      "grid_row": null,
      "grid_template_areas": null,
      "grid_template_columns": null,
      "grid_template_rows": null,
      "height": null,
      "justify_content": null,
      "justify_items": null,
      "left": null,
      "margin": null,
      "max_height": null,
      "max_width": null,
      "min_height": null,
      "min_width": null,
      "object_fit": null,
      "object_position": null,
      "order": null,
      "overflow": null,
      "overflow_x": null,
      "overflow_y": null,
      "padding": null,
      "right": null,
      "top": null,
      "visibility": null,
      "width": null
     }
    },
    "bb28f5117bd9422cae5cb12edc27ba7c": {
     "model_module": "@jupyter-widgets/controls",
     "model_module_version": "1.5.0",
     "model_name": "FloatProgressModel",
     "state": {
      "_dom_classes": [],
      "_model_module": "@jupyter-widgets/controls",
      "_model_module_version": "1.5.0",
      "_model_name": "FloatProgressModel",
      "_view_count": null,
      "_view_module": "@jupyter-widgets/controls",
      "_view_module_version": "1.5.0",
      "_view_name": "ProgressView",
      "bar_style": "success",
      "description": "",
      "description_tooltip": null,
      "layout": "IPY_MODEL_76e66fce53a54c94a0fabc43633f3f3a",
      "max": 1000,
      "min": 0,
      "orientation": "horizontal",
      "style": "IPY_MODEL_7d23d4a1a83f4c5ab47b0bf475c43a7d",
      "value": 1000
     }
    },
    "c0012ce4bade4ec3bd47e18bd899179a": {
     "model_module": "@jupyter-widgets/controls",
     "model_module_version": "1.5.0",
     "model_name": "HTMLModel",
     "state": {
      "_dom_classes": [],
      "_model_module": "@jupyter-widgets/controls",
      "_model_module_version": "1.5.0",
      "_model_name": "HTMLModel",
      "_view_count": null,
      "_view_module": "@jupyter-widgets/controls",
      "_view_module_version": "1.5.0",
      "_view_name": "HTMLView",
      "description": "",
      "description_tooltip": null,
      "layout": "IPY_MODEL_67b10d448c2b40fa9e4756d8b96bdae4",
      "placeholder": "​",
      "style": "IPY_MODEL_9d3cccf65f14469990be15c29733d256",
      "value": " 1000/1000 [00:00&lt;00:00, 3410.29 examples/s]"
     }
    },
    "c4ee999d8ef641c1ac226d3db9b4b16e": {
     "model_module": "@jupyter-widgets/controls",
     "model_module_version": "1.5.0",
     "model_name": "HTMLModel",
     "state": {
      "_dom_classes": [],
      "_model_module": "@jupyter-widgets/controls",
      "_model_module_version": "1.5.0",
      "_model_name": "HTMLModel",
      "_view_count": null,
      "_view_module": "@jupyter-widgets/controls",
      "_view_module_version": "1.5.0",
      "_view_name": "HTMLView",
      "description": "",
      "description_tooltip": null,
      "layout": "IPY_MODEL_2fe665780a524bbf88cedf4052769cc7",
      "placeholder": "​",
      "style": "IPY_MODEL_854da9e70dd6430baf1f633d5aa2e813",
      "value": "Map: 100%"
     }
    }
   }
  }
 },
 "nbformat": 4,
 "nbformat_minor": 5
}
